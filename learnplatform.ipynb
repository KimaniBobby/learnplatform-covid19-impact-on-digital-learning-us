{
 "cells": [
  {
   "cell_type": "markdown",
   "id": "c521c74d",
   "metadata": {},
   "source": [
    "IMPORT LIBRARIES"
   ]
  },
  {
   "cell_type": "code",
   "execution_count": 1,
   "id": "f7d102b5",
   "metadata": {},
   "outputs": [],
   "source": [
    "import numpy as np\n",
    "import pandas as pd \n",
    "import matplotlib.pyplot as plt\n",
    "import seaborn as sns\n"
   ]
  },
  {
   "cell_type": "code",
   "execution_count": 7,
   "id": "98b19690",
   "metadata": {},
   "outputs": [],
   "source": [
    "products_df = pd.read_csv('/Users/bobbynjorogekimani/Documents/Data_science/learnplatform-covid19-impact-on-digital-learning/products_info.csv',encoding ='unicode_escape')\n",
    "districts_df =pd.read_csv('/Users/bobbynjorogekimani/Documents/Data_science/learnplatform-covid19-impact-on-digital-learning/districts_info.csv', encoding ='unicode_escape')"
   ]
  },
  {
   "cell_type": "code",
   "execution_count": 10,
   "id": "f7bfefa4",
   "metadata": {},
   "outputs": [
    {
     "name": "stdout",
     "output_type": "stream",
     "text": [
      "<bound method NDFrame.head of      LP ID                                                URL  \\\n",
      "0    61517  http://www.hmhco.com/shop/education-curriculum...   \n",
      "1    11286  https://abcnews.go.com/?cid=marketing_search_A...   \n",
      "2    66933                               https://abcmouse.com   \n",
      "3    50479                              https://www.abcya.com   \n",
      "4    73104                       https://www.achieve3000.com/   \n",
      "..     ...                                                ...   \n",
      "367  61292                             http://www.youtube.com   \n",
      "368  37153                             https://www.zearn.org/   \n",
      "369  79673                           https://www.zendesk.com/   \n",
      "370  61945                                   https://zoom.us/   \n",
      "371  22767  https://apps.apple.com/us/app/zoom-cloud-meeti...   \n",
      "\n",
      "            Product Name            Provider/Company Name  \\\n",
      "0           Â¡Avancemos!        Houghton Mifflin Harcourt   \n",
      "1               ABC News                      ABC digital   \n",
      "2           ABCmouse.com            Age of Learning, Inc    \n",
      "3                 ABCya!                   ABCya.com, LLC   \n",
      "4            Achieve3000                      Achieve3000   \n",
      "..                   ...                              ...   \n",
      "367              YouTube                       Google LLC   \n",
      "368                Zearn                            Zearn   \n",
      "369              Zendesk                          Zendesk   \n",
      "370                 Zoom  ZOOM VIDEO COMMUNICATIONS, INC.   \n",
      "371  ZOOM Cloud Meetings  ZOOM VIDEO COMMUNICATIONS, INC.   \n",
      "\n",
      "                         Sector(s)  \\\n",
      "0                          PreK-12   \n",
      "1    PreK-12; Higher Ed; Corporate   \n",
      "2                          PreK-12   \n",
      "3                          PreK-12   \n",
      "4                          PreK-12   \n",
      "..                             ...   \n",
      "367  PreK-12; Higher Ed; Corporate   \n",
      "368                        PreK-12   \n",
      "369  PreK-12; Higher Ed; Corporate   \n",
      "370  PreK-12; Higher Ed; Corporate   \n",
      "371  PreK-12; Higher Ed; Corporate   \n",
      "\n",
      "                            Primary Essential Function  \n",
      "0                          LC - Courseware & Textbooks  \n",
      "1                    LC - Sites, Resources & Reference  \n",
      "2                      LC - Digital Learning Platforms  \n",
      "3    LC - Sites, Resources & Reference - Games & Si...  \n",
      "4                      LC - Digital Learning Platforms  \n",
      "..                                                 ...  \n",
      "367  LC - Sites, Resources & Reference - Streaming ...  \n",
      "368                    LC - Digital Learning Platforms  \n",
      "369                              SDO - Human Resources  \n",
      "370  CM - Virtual Classroom - Video Conferencing & ...  \n",
      "371  CM - Virtual Classroom - Video Conferencing & ...  \n",
      "\n",
      "[372 rows x 6 columns]>\n"
     ]
    }
   ],
   "source": [
    "print(products_df.head)"
   ]
  },
  {
   "cell_type": "code",
   "execution_count": 14,
   "id": "21375ebc",
   "metadata": {},
   "outputs": [
    {
     "name": "stdout",
     "output_type": "stream",
     "text": [
      "<bound method NDFrame.head of      district_id       state  locale pct_black/hispanic pct_free/reduced  \\\n",
      "0           9007     Arizona    City           [0.8, 1[              NaN   \n",
      "1           2074  California  Suburb         [0.4, 0.6[       [0.2, 0.4[   \n",
      "2           5604  California  Suburb           [0, 0.2[         [0, 0.2[   \n",
      "3           3412  California    City         [0.6, 0.8[       [0.4, 0.6[   \n",
      "4           2321  California   Rural           [0, 0.2[         [0, 0.2[   \n",
      "..           ...         ...     ...                ...              ...   \n",
      "228         5510  Washington    City         [0.2, 0.4[       [0.4, 0.6[   \n",
      "229         1705  Washington    City         [0.2, 0.4[       [0.4, 0.6[   \n",
      "230         5987   Wisconsin  Suburb           [0, 0.2[         [0, 0.2[   \n",
      "231         8902   Wisconsin  Suburb           [0, 0.2[       [0.2, 0.4[   \n",
      "232         7752   Wisconsin  Suburb           [0, 0.2[         [0, 0.2[   \n",
      "\n",
      "    county_connections_ratio    pp_total_raw  \n",
      "0                  [0.18, 1[             NaN  \n",
      "1                  [0.18, 1[             NaN  \n",
      "2                  [0.18, 1[             NaN  \n",
      "3                  [0.18, 1[             NaN  \n",
      "4                  [0.18, 1[             NaN  \n",
      "..                       ...             ...  \n",
      "228                [0.18, 1[  [14000, 16000[  \n",
      "229                [0.18, 1[  [12000, 14000[  \n",
      "230                [0.18, 1[  [10000, 12000[  \n",
      "231                [0.18, 1[  [10000, 12000[  \n",
      "232                [0.18, 1[  [10000, 12000[  \n",
      "\n",
      "[233 rows x 7 columns]>\n"
     ]
    }
   ],
   "source": [
    "print(districts_df.head)"
   ]
  },
  {
   "cell_type": "code",
   "execution_count": null,
   "id": "b7316d9b",
   "metadata": {},
   "outputs": [],
   "source": []
  }
 ],
 "metadata": {
  "kernelspec": {
   "display_name": "Python 3 (ipykernel)",
   "language": "python",
   "name": "python3"
  },
  "language_info": {
   "codemirror_mode": {
    "name": "ipython",
    "version": 3
   },
   "file_extension": ".py",
   "mimetype": "text/x-python",
   "name": "python",
   "nbconvert_exporter": "python",
   "pygments_lexer": "ipython3",
   "version": "3.9.7"
  }
 },
 "nbformat": 4,
 "nbformat_minor": 5
}
